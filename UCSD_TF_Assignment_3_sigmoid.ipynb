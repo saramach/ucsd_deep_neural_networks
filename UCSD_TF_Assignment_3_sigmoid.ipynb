{
  "nbformat": 4,
  "nbformat_minor": 0,
  "metadata": {
    "colab": {
      "name": "UCSD-TF-Assignment-3-sigmoid.ipynb",
      "provenance": [],
      "collapsed_sections": [],
      "authorship_tag": "ABX9TyOxDgjW3mdnWhtSknzWwn2E",
      "include_colab_link": true
    },
    "kernelspec": {
      "name": "python3",
      "display_name": "Python 3"
    }
  },
  "cells": [
    {
      "cell_type": "markdown",
      "metadata": {
        "id": "view-in-github",
        "colab_type": "text"
      },
      "source": [
        "<a href=\"https://colab.research.google.com/github/saramach/ucsd_deep_neural_networks/blob/master/UCSD_TF_Assignment_3_sigmoid.ipynb\" target=\"_parent\"><img src=\"https://colab.research.google.com/assets/colab-badge.svg\" alt=\"Open In Colab\"/></a>"
      ]
    },
    {
      "cell_type": "code",
      "metadata": {
        "id": "m69rNjeAnUwg",
        "colab_type": "code",
        "colab": {}
      },
      "source": [
        "from __future__ import absolute_import, division, print_function, unicode_literals\n",
        "\n",
        "\n",
        "# Install TensorFlow\n",
        "try:\n",
        "  # %tensorflow_version only exists in Colab.\n",
        "  %tensorflow_version 2.x\n",
        "except Exception:\n",
        "  pass\n",
        "\n",
        "import tensorflow as tf\n",
        "import numpy as np\n",
        "import matplotlib.pyplot as plt\n",
        "\n",
        "np.random.seed(1)\n",
        "tf.random.set_seed(2)\n"
      ],
      "execution_count": 0,
      "outputs": []
    },
    {
      "cell_type": "code",
      "metadata": {
        "id": "FlPvgJ40oK2k",
        "colab_type": "code",
        "outputId": "dfe33672-0bcb-4cb8-a962-11b38e071841",
        "colab": {
          "base_uri": "https://localhost:8080/",
          "height": 281
        }
      },
      "source": [
        "mnist = tf.keras.datasets.mnist\n",
        "\n",
        "(x_train, y_train), (x_test, y_test) = mnist.load_data()\n",
        "x_train, x_test = x_train / 255.0, x_test / 255.0\n",
        "x_train = x_train.reshape(len(x_train), 28, 28,1)\n",
        "x_test = x_test.reshape(len(x_test), 28, 28,1)\n",
        "x_test.shape\n",
        "def display_image(position):\n",
        "    image = x_train[position].squeeze()\n",
        "    plt.title('Example %d. Label: %d' % (position, y_train[position]))\n",
        "    plt.imshow(image, cmap=plt.cm.gray_r)\n",
        "display_image(0)"
      ],
      "execution_count": 32,
      "outputs": [
        {
          "output_type": "display_data",
          "data": {
            "image/png": "[encoded data removed]",
            "text/plain": [
              "<Figure size 432x288 with 1 Axes>"
            ]
          },
          "metadata": {
            "tags": []
          }
        }
      ]
    },
    {
      "cell_type": "code",
      "metadata": {
        "id": "29fDJCpdoPj0",
        "colab_type": "code",
        "colab": {}
      },
      "source": [
        "model = tf.keras.models.Sequential([\n",
        "  tf.keras.layers.Conv2D(6, (3,3), activation='sigmoid', input_shape=(28, 28,1)),\n",
        "  tf.keras.layers.AveragePooling2D(),\n",
        "  tf.keras.layers.Conv2D(16, (3,3), activation='sigmoid'),\n",
        "  tf.keras.layers.AveragePooling2D(),\n",
        "  tf.keras.layers.Flatten(),\n",
        "  tf.keras.layers.Dense(32,activation = 'sigmoid'),\n",
        "  tf.keras.layers.Dense(32,activation = 'sigmoid'),\n",
        "  tf.keras.layers.Dense(32,activation = 'sigmoid'),\n",
        "  tf.keras.layers.Dense(32,activation = 'sigmoid'),\n",
        "  tf.keras.layers.Dense(32,activation = 'sigmoid'),\n",
        "  tf.keras.layers.Dense(32,activation = 'sigmoid'),\n",
        "  tf.keras.layers.Dense(10, activation=tf.nn.softmax)\n",
        "])\n",
        "\n",
        "model.compile(optimizer='adam',\n",
        "              loss='sparse_categorical_crossentropy',\n",
        "              metrics=['accuracy'])"
      ],
      "execution_count": 0,
      "outputs": []
    },
    {
      "cell_type": "code",
      "metadata": {
        "id": "PvExzp8PIgkl",
        "colab_type": "code",
        "outputId": "39fa7474-f4df-4a84-c7e8-b0d66976216e",
        "colab": {
          "base_uri": "https://localhost:8080/",
          "height": 561
        }
      },
      "source": [
        "model.summary()"
      ],
      "execution_count": 34,
      "outputs": [
        {
          "output_type": "stream",
          "text": [
            "Model: \"sequential_4\"\n",
            "_________________________________________________________________\n",
            "Layer (type)                 Output Shape              Param #   \n",
            "=================================================================\n",
            "conv2d_8 (Conv2D)            (None, 26, 26, 6)         60        \n",
            "_________________________________________________________________\n",
            "average_pooling2d_8 (Average (None, 13, 13, 6)         0         \n",
            "_________________________________________________________________\n",
            "conv2d_9 (Conv2D)            (None, 11, 11, 16)        880       \n",
            "_________________________________________________________________\n",
            "average_pooling2d_9 (Average (None, 5, 5, 16)          0         \n",
            "_________________________________________________________________\n",
            "flatten_4 (Flatten)          (None, 400)               0         \n",
            "_________________________________________________________________\n",
            "dense_28 (Dense)             (None, 32)                12832     \n",
            "_________________________________________________________________\n",
            "dense_29 (Dense)             (None, 32)                1056      \n",
            "_________________________________________________________________\n",
            "dense_30 (Dense)             (None, 32)                1056      \n",
            "_________________________________________________________________\n",
            "dense_31 (Dense)             (None, 32)                1056      \n",
            "_________________________________________________________________\n",
            "dense_32 (Dense)             (None, 32)                1056      \n",
            "_________________________________________________________________\n",
            "dense_33 (Dense)             (None, 32)                1056      \n",
            "_________________________________________________________________\n",
            "dense_34 (Dense)             (None, 10)                330       \n",
            "=================================================================\n",
            "Total params: 19,382\n",
            "Trainable params: 19,382\n",
            "Non-trainable params: 0\n",
            "_________________________________________________________________\n"
          ],
          "name": "stdout"
        }
      ]
    },
    {
      "cell_type": "code",
      "metadata": {
        "id": "7-j8_dYootCK",
        "colab_type": "code",
        "outputId": "624503b4-f14b-42eb-8bd3-fb3d162744fc",
        "colab": {
          "base_uri": "https://localhost:8080/",
          "height": 221
        }
      },
      "source": [
        "model.fit(x_train, y_train, epochs=5, verbose=2)\n",
        "\n"
      ],
      "execution_count": 35,
      "outputs": [
        {
          "output_type": "stream",
          "text": [
            "Train on 60000 samples\n",
            "Epoch 1/5\n",
            "60000/60000 - 24s - loss: 1.9957 - accuracy: 0.2161\n",
            "Epoch 2/5\n",
            "60000/60000 - 23s - loss: 1.0495 - accuracy: 0.5986\n",
            "Epoch 3/5\n",
            "60000/60000 - 23s - loss: 0.4974 - accuracy: 0.8633\n",
            "Epoch 4/5\n",
            "60000/60000 - 24s - loss: 0.3235 - accuracy: 0.9162\n",
            "Epoch 5/5\n",
            "60000/60000 - 23s - loss: 0.2608 - accuracy: 0.9320\n"
          ],
          "name": "stdout"
        },
        {
          "output_type": "execute_result",
          "data": {
            "text/plain": [
              "<tensorflow.python.keras.callbacks.History at 0x7fe67cef96d8>"
            ]
          },
          "metadata": {
            "tags": []
          },
          "execution_count": 35
        }
      ]
    },
    {
      "cell_type": "code",
      "metadata": {
        "id": "D25-ucHbpYZP",
        "colab_type": "code",
        "outputId": "d2238462-4cf6-4fdb-bdc4-9d70020c50ec",
        "colab": {
          "base_uri": "https://localhost:8080/",
          "height": 51
        }
      },
      "source": [
        "model.evaluate(x_test,  y_test, verbose=2)"
      ],
      "execution_count": 29,
      "outputs": [
        {
          "output_type": "stream",
          "text": [
            "10000/10000 - 2s - loss: 0.2285 - accuracy: 0.9417\n"
          ],
          "name": "stdout"
        },
        {
          "output_type": "execute_result",
          "data": {
            "text/plain": [
              "[0.22848183022737503, 0.9417]"
            ]
          },
          "metadata": {
            "tags": []
          },
          "execution_count": 29
        }
      ]
    }
  ]
}